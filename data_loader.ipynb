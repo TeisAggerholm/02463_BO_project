{
 "cells": [
  {
   "cell_type": "code",
   "execution_count": null,
   "metadata": {},
   "outputs": [
    {
     "name": "stdout",
     "output_type": "stream",
     "text": [
      "[[0 array([[0, 0, 0, ..., 0, 0, 0],\n",
      "           [0, 0, 0, ..., 0, 0, 0],\n",
      "           [0, 0, 0, ..., 0, 0, 0],\n",
      "           ...,\n",
      "           [0, 0, 0, ..., 0, 0, 0],\n",
      "           [0, 0, 0, ..., 0, 0, 0],\n",
      "           [0, 0, 0, ..., 0, 0, 0]], shape=(128, 128), dtype=uint8)]\n",
      " [0 array([[0, 0, 0, ..., 0, 0, 0],\n",
      "           [0, 0, 0, ..., 0, 0, 0],\n",
      "           [0, 0, 0, ..., 0, 0, 0],\n",
      "           ...,\n",
      "           [0, 0, 0, ..., 0, 0, 0],\n",
      "           [0, 0, 0, ..., 0, 0, 0],\n",
      "           [0, 0, 0, ..., 0, 0, 0]], shape=(128, 128), dtype=uint8)]\n",
      " [0 array([[0, 0, 0, ..., 0, 0, 0],\n",
      "           [0, 0, 0, ..., 0, 0, 0],\n",
      "           [0, 0, 0, ..., 0, 0, 0],\n",
      "           ...,\n",
      "           [0, 0, 0, ..., 0, 0, 0],\n",
      "           [0, 0, 0, ..., 0, 0, 0],\n",
      "           [0, 0, 0, ..., 0, 0, 0]], shape=(128, 128), dtype=uint8)]\n",
      " ...\n",
      " [1\n",
      "  array([[254, 229, 247, ..., 254, 228, 255],\n",
      "         [241,  99,  40, ...,  45,  94, 240],\n",
      "         [255,  68,   0, ...,   4,  65, 255],\n",
      "         ...,\n",
      "         [255,  67,   5, ...,   4,  67, 255],\n",
      "         [246,  94,  41, ...,  44,  97, 246],\n",
      "         [255, 218, 240, ..., 247, 223, 255]], shape=(128, 128), dtype=uint8)]\n",
      " [1 array([[0, 0, 0, ..., 0, 0, 0],\n",
      "           [0, 0, 0, ..., 0, 0, 0],\n",
      "           [0, 0, 0, ..., 0, 0, 0],\n",
      "           ...,\n",
      "           [0, 0, 0, ..., 0, 0, 0],\n",
      "           [0, 0, 0, ..., 0, 0, 0],\n",
      "           [0, 0, 0, ..., 0, 0, 0]], shape=(128, 128), dtype=uint8)]\n",
      " [1 array([[0, 2, 3, ..., 1, 3, 3],\n",
      "           [1, 1, 2, ..., 1, 2, 3],\n",
      "           [2, 1, 0, ..., 2, 2, 2],\n",
      "           ...,\n",
      "           [2, 1, 1, ..., 2, 0, 3],\n",
      "           [2, 1, 1, ..., 0, 0, 3],\n",
      "           [2, 1, 1, ..., 0, 0, 3]], shape=(128, 128), dtype=uint8)]]\n"
     ]
    },
    {
     "data": {
      "text/plain": [
       "0       0\n",
       "1       0\n",
       "2       0\n",
       "3       0\n",
       "4       0\n",
       "       ..\n",
       "4595    1\n",
       "4596    1\n",
       "4597    1\n",
       "4598    1\n",
       "4599    1\n",
       "Name: 0, Length: 4600, dtype: object"
      ]
     },
     "execution_count": 8,
     "metadata": {},
     "output_type": "execute_result"
    }
   ],
   "source": [
    "dataset = 'dataset.pkl'\n",
    "\n",
    "import pickle\n",
    "\n",
    "with open(dataset, 'rb') as f:\n",
    "    data = pickle.load(f)\n",
    "\n",
    "print(data)\n",
    "import pandas as pd\n",
    "\n",
    "df = pd.DataFrame(data)\n",
    "df"
   ]
  }
 ],
 "metadata": {
  "kernelspec": {
   "display_name": "Python 3",
   "language": "python",
   "name": "python3"
  },
  "language_info": {
   "codemirror_mode": {
    "name": "ipython",
    "version": 3
   },
   "file_extension": ".py",
   "mimetype": "text/x-python",
   "name": "python",
   "nbconvert_exporter": "python",
   "pygments_lexer": "ipython3",
   "version": "3.12.2"
  }
 },
 "nbformat": 4,
 "nbformat_minor": 2
}
