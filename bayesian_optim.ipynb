{
 "cells": [
  {
   "cell_type": "code",
   "execution_count": 2,
   "metadata": {},
   "outputs": [],
   "source": [
    "import torch\n",
    "import numpy as np\n",
    "import matplotlib.pyplot as plt\n",
    "from scipy.spatial.distance import cdist"
   ]
  },
  {
   "cell_type": "code",
   "execution_count": null,
   "metadata": {},
   "outputs": [],
   "source": [
    "\n",
    "# GP\n",
    "# Kernel\n",
    "# Fit GP\n",
    "# Optimize GP Hyper paramters\n",
    "# Acquisition function\n",
    "# Optimizing CNN hyper parameters\n",
    "\n",
    "class GaussianProcess():\n",
    "    def __init__(self, lengthscale : float, kernel_variance : float, noise_variance : float):\n",
    "        self.lengthscale = torch.nn.Parameter(torch.tensor(float(lengthscale)), requires_grad=True )\n",
    "        self.kernel_variance = torch.nn.Parameter(torch.tensor(float(kernel_variance)), requires_grad=True)\n",
    "        self.noise_variance = torch.nn.Parameter(torch.tensor(float(noise_variance)), requires_grad=True)\n",
    "\n",
    "        self.posterior_mean = None\n",
    "        self.posterior_covariance = None\n",
    "\n",
    "    def squared_exponential_kernel(self, x : torch.Tensor, y : torch.Tensor):\n",
    "        x = x.squeeze(1).expand(x.size(0), y.size(0))\n",
    "        y = y.squeeze(0).expand(x.size(0), y.size(0))\n",
    "        sqdist = torch.pow(x - y, 2)\n",
    "        covariance = self.kernel_variance * torch.exp(-sqdist / (2 * self.lengthscale**2))    \n",
    "        return covariance\n",
    "    \n",
    "    def fit_posterior(self, xtrain : torch.Tensor, ytrain : torch.Tensor, xtest : torch.Tensor):\n",
    "        N = len(xtrain)\n",
    "        \n",
    "        K = self.squared_exponential_kernel(xtrain, xtrain)\n",
    "        Ks = self.squared_exponential_kernel(xtrain, xtest)\n",
    "        Kss = self.squared_exponential_kernel(xtest, xtest)\n",
    "        \n",
    "        L = torch.linalg.cholesky(K + self.noise_variance * torch.eye(len(N)))\n",
    "        _alpha_temp = torch.linalg.solve_triangular(L, ytrain,upper=False)\n",
    "        _alpha = torch.linalg.solve_triangular(L.t(),_alpha_temp,upper=True)\n",
    "        mu = Ks.t() @ _alpha\n",
    "        \n",
    "        v = torch.linalg.solve(L, Ks)\n",
    "        covariance = Kss - v.t() @ v\n",
    "        \n",
    "        self.posterior_mean = mu\n",
    "        self.posterior_covariance = covariance\n",
    "        \n",
    "        return mu, covariance\n",
    "        \n",
    "    def optimize():\n",
    "        pass\n"
   ]
  },
  {
   "cell_type": "code",
   "execution_count": null,
   "metadata": {},
   "outputs": [
    {
     "data": {
      "text/plain": [
       "(tensor([[3, 3],\n",
       "         [4, 4]]),\n",
       " tensor([[1, 2],\n",
       "         [1, 2]]))"
      ]
     },
     "execution_count": 43,
     "metadata": {},
     "output_type": "execute_result"
    }
   ],
   "source": [
    "x = torch.tensor([1,2]).reshape(-1, 1)\n",
    "y = torch.tensor([3,4]).reshape(-1, 1)\n",
    "\n",
    "gp = GaussianProcess(1, 1)"
   ]
  }
 ],
 "metadata": {
  "kernelspec": {
   "display_name": "base",
   "language": "python",
   "name": "python3"
  },
  "language_info": {
   "codemirror_mode": {
    "name": "ipython",
    "version": 3
   },
   "file_extension": ".py",
   "mimetype": "text/x-python",
   "name": "python",
   "nbconvert_exporter": "python",
   "pygments_lexer": "ipython3",
   "version": "3.11.10"
  }
 },
 "nbformat": 4,
 "nbformat_minor": 2
}
